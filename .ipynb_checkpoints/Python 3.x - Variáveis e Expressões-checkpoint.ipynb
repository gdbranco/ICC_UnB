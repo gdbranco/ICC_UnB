{
 "cells": [
  {
   "cell_type": "markdown",
   "metadata": {},
   "source": [
    "## Valores e Tipos\n",
    "\n",
    "* O valor constitui uma das manipulações fundamentais do programa\n",
    "    - 2, resultado de 1+1\n",
    "    - \"Olá, mundo!\"\n",
    "* Valores pertencem a tipos diferentes:\n",
    "    - 2 representa o tipo inteiro\n",
    "    - 2.3 representa o tipo real (float)\n",
    "    - \"Olá, mundo!\" representa uma cadeia de caractéres (string)\n",
    "    - True, representa um valor booleano"
   ]
  },
  {
   "cell_type": "markdown",
   "metadata": {},
   "source": [
    "## Variáveis\n",
    "\n",
    "Na matemática uma variável pode ser entendido como um símbolo. Isto representa uma característica (quantidade, qualidade, magnitude etc) que pode possuir valores numéricos.\n",
    "\n",
    "* \\begin{equation}f(x) = x+1\\end{equation}\n",
    "    - A variável x exerce o papel de parâmetro de entrada da função \n",
    "* \\begin{equation}x^2 - x + 1 = 0\\end{equation}\n",
    "    - A variável x exerce o papel de incógnita\n",
    "    \n",
    "Para a Computação, uma variável se refere a uma posição em memória capaz de reter um valor ou expressão. Por meio de uma analogia, pode-se considerar a variável como uma caixa e o valor seu conteúdo.\n",
    "\n",
    "A criação de uma variável utiliza o comando de atribuição ``=``, além disto têm-se algumas regras. Os nomes de variável podem conter letras, números e o caractére ``_``, porém não podem ser iniciadas por números.\n",
    "* Escolha nomes significativos para as variáveis;\n",
    "* Os nomes podem ser arbitrariamente longos;\n",
    "* Os nomes são sensíveis a maiúsculas e minúsculas, logo ``nome`` será diferente de ``Nome``."
   ]
  },
  {
   "cell_type": "code",
   "execution_count": 13,
   "metadata": {},
   "outputs": [],
   "source": [
    "mensagem = \"Sou da UnB\"\n",
    "idade = 18\n",
    "pi = 3.1415\n",
    "verdade = True"
   ]
  },
  {
   "cell_type": "code",
   "execution_count": 16,
   "metadata": {},
   "outputs": [
    {
     "ename": "SyntaxError",
     "evalue": "invalid syntax (<ipython-input-16-2479865f6f98>, line 1)",
     "output_type": "error",
     "traceback": [
      "\u001b[1;36m  File \u001b[1;32m\"<ipython-input-16-2479865f6f98>\"\u001b[1;36m, line \u001b[1;32m1\u001b[0m\n\u001b[1;33m    1tamanho = 4\u001b[0m\n\u001b[1;37m           ^\u001b[0m\n\u001b[1;31mSyntaxError\u001b[0m\u001b[1;31m:\u001b[0m invalid syntax\n"
     ]
    }
   ],
   "source": [
    "1tamanho = 4"
   ]
  },
  {
   "cell_type": "markdown",
   "metadata": {},
   "source": [
    "Além destas regras, no Python existem algumas palavras reservadas. Esta lista pode ser obtida por meio de dois comandos:"
   ]
  },
  {
   "cell_type": "code",
   "execution_count": 25,
   "metadata": {},
   "outputs": [
    {
     "name": "stdout",
     "output_type": "stream",
     "text": [
      "['False', 'None', 'True', 'and', 'as', 'assert', 'break', 'class', 'continue', 'def', 'del', 'elif', 'else', 'except', 'finally', 'for', 'from', 'global', 'if', 'import', 'in', 'is', 'lambda', 'nonlocal', 'not', 'or', 'pass', 'raise', 'return', 'try', 'while', 'with', 'yield']\n"
     ]
    }
   ],
   "source": [
    "import keyword\n",
    "print(keyword.kwlist)"
   ]
  },
  {
   "cell_type": "markdown",
   "metadata": {},
   "source": [
    "Uma maneira de representar as variáveis em papel se dá por diagramos de estado. Este diagrama contém o nome da variável e uma seta apontando para seu estado (conteúdo) atual.\n",
    "\n",
    "<img src = \"./img/diagrama_estado.png\">"
   ]
  },
  {
   "cell_type": "markdown",
   "metadata": {},
   "source": [
    "No python a função ``print`` fica responsável por mostrar o conteúdo de variáveis ou expressões na tela."
   ]
  },
  {
   "cell_type": "code",
   "execution_count": 15,
   "metadata": {},
   "outputs": [
    {
     "name": "stdout",
     "output_type": "stream",
     "text": [
      "Sou da UnB\n",
      "18\n",
      "3.1415\n",
      "True\n"
     ]
    }
   ],
   "source": [
    "print(mensagem)\n",
    "print(idade)\n",
    "print(pi)\n",
    "print(verdade)"
   ]
  },
  {
   "cell_type": "markdown",
   "metadata": {},
   "source": [
    "Note que previamente foi mencionado que os valores possuem tipo, logo as variáveis possuem o mesmo tipo do valor de seu conteúdo. Este tipo pode ser acessado pela função ``type``."
   ]
  },
  {
   "cell_type": "code",
   "execution_count": 14,
   "metadata": {},
   "outputs": [
    {
     "name": "stdout",
     "output_type": "stream",
     "text": [
      "<class 'str'>\n",
      "<class 'int'>\n",
      "<class 'float'>\n",
      "<class 'bool'>\n"
     ]
    }
   ],
   "source": [
    "print(type(mensagem))\n",
    "print(type(idade))\n",
    "print(type(pi))\n",
    "print(type(verdade))"
   ]
  },
  {
   "cell_type": "markdown",
   "metadata": {},
   "source": [
    "Uma variável pode exercer diversos papéis no programa, tais como os vistos na tabela abaixo.\n",
    "\n",
    " Papel | Descrição \n",
    "-------|------------\n",
    "Constante | Recebe um valor apenas uma vez e não o muda\n",
    "Contador  | Recebe valores sucessivos de forma sistemática\n",
    "Somador   | Guarda a soma do seu valor atual mais alguma quantidade\n",
    "Sinalizador        | Sinaliza algum ocorrido\n",
    "Valor mais recente | Guarda o último valor\n",
    "Melhor valor       | Guarda o valor mais apropriado\n",
    "\n",
    "Entre estes estão os mais utilizados, porém também podem exercer outros papéis que serão explicados conforme a necessidade.\n",
    "\n",
    "### Exemplo\n",
    "Suponha um aluno com insônia. Um método que pode ser usado para dormir é o de contar carneiros.\n",
    "\n",
    "<img src=\"./img/insonia.png\">"
   ]
  },
  {
   "cell_type": "code",
   "execution_count": 21,
   "metadata": {},
   "outputs": [
    {
     "name": "stdout",
     "output_type": "stream",
     "text": [
      "Ovelhas = 0\n",
      "Ovelhas = 1\n",
      "Ovelhas = 2\n",
      "Ovelhas = 3\n",
      "Ovelhas = 4\n",
      "Ovelhas = 5\n",
      "Ovelhas = 6\n",
      "Ovelhas = 7\n",
      "Ovelhas = 8\n",
      "Ovelhas = 9\n",
      "Ovelhas = 10\n",
      "Ovelhas = 11\n",
      "Ovelhas = 12\n",
      "Ovelhas = 13\n",
      "Ovelhas = 14\n",
      "Ovelhas = 15\n",
      "Dormiu\n"
     ]
    }
   ],
   "source": [
    "ovelhas = 0\n",
    "acordado = True\n",
    "from random import randint\n",
    "dormir = randint(0, 20)\n",
    "while acordado:\n",
    "    print(f\"Ovelhas = {ovelhas}\")\n",
    "    ovelhas += 1\n",
    "    if ovelhas > dormir:\n",
    "        acordado = False\n",
    "print(\"Dormiu\")"
   ]
  },
  {
   "cell_type": "markdown",
   "metadata": {},
   "source": [
    "De acordo com ``Abelson et al. 1996``.\n",
    "* Um programa de computador não é apenas uma lista de comandos e variáveis em uma linguagem de programação para algum computador o executar;\n",
    "* Ele é mais que isso, é um novo meio para expressar ideias sobre metodologias;\n",
    "* Portanto, programas tem que ser escritos para as pessoas lerem, e apenas, por acaso, para serem executados por máquinas."
   ]
  },
  {
   "cell_type": "markdown",
   "metadata": {},
   "source": [
    "### Exemplo 2\n",
    "Tente adivinhar o que o seguinte programa faz:"
   ]
  },
  {
   "cell_type": "code",
   "execution_count": 27,
   "metadata": {},
   "outputs": [
    {
     "name": "stdout",
     "output_type": "stream",
     "text": [
      "314.15000000000003\n"
     ]
    }
   ],
   "source": [
    "e = 3.1415\n",
    "n = 10\n",
    "z = e * n**2\n",
    "print(z)"
   ]
  },
  {
   "cell_type": "markdown",
   "metadata": {},
   "source": [
    "Com esta escolha de nomeação torna-se uma tarefa muito complicada adivinhar o que o programa esta calculando. Porém com uma nomeação correta,"
   ]
  },
  {
   "cell_type": "code",
   "execution_count": 28,
   "metadata": {},
   "outputs": [
    {
     "name": "stdout",
     "output_type": "stream",
     "text": [
      "314.15000000000003\n"
     ]
    }
   ],
   "source": [
    "pi = 3.1415\n",
    "raio = 10\n",
    "area = pi * raio**2\n",
    "print(area)"
   ]
  },
  {
   "cell_type": "markdown",
   "metadata": {},
   "source": [
    "siga o conselho, escreva programas para seres humanos lerem, que por acaso, possam ser executados por máquinas."
   ]
  },
  {
   "cell_type": "markdown",
   "metadata": {},
   "source": [
    "## Expressões\n",
    "\n",
    "Uma expressão representa uma combinação de valores, variáveis e operadores. Se for digitado uma expressão na linha de comando, o interpretador avalia e exibe o resultado."
   ]
  },
  {
   "cell_type": "code",
   "execution_count": 29,
   "metadata": {},
   "outputs": [
    {
     "data": {
      "text/plain": [
       "2"
      ]
     },
     "execution_count": 29,
     "metadata": {},
     "output_type": "execute_result"
    }
   ],
   "source": [
    "1+1"
   ]
  },
  {
   "cell_type": "code",
   "execution_count": 32,
   "metadata": {},
   "outputs": [],
   "source": [
    "x = 1+1"
   ]
  },
  {
   "cell_type": "markdown",
   "metadata": {},
   "source": [
    "Embora expressão contenham valores, variáveis e operadores, nem toda expressão contém todos estes elementos. Um valor po si só é considerado uma expressão, do mesmo modo que uma variável"
   ]
  },
  {
   "cell_type": "code",
   "execution_count": 30,
   "metadata": {},
   "outputs": [
    {
     "data": {
      "text/plain": [
       "17"
      ]
     },
     "execution_count": 30,
     "metadata": {},
     "output_type": "execute_result"
    }
   ],
   "source": [
    "17"
   ]
  },
  {
   "cell_type": "code",
   "execution_count": 33,
   "metadata": {},
   "outputs": [
    {
     "data": {
      "text/plain": [
       "2"
      ]
     },
     "execution_count": 33,
     "metadata": {},
     "output_type": "execute_result"
    }
   ],
   "source": [
    "x"
   ]
  },
  {
   "cell_type": "markdown",
   "metadata": {},
   "source": [
    "A avaliação de uma expressão não é exatamente a mesma coisa que imprimir o valor"
   ]
  },
  {
   "cell_type": "code",
   "execution_count": 34,
   "metadata": {},
   "outputs": [
    {
     "data": {
      "text/plain": [
       "'E aí, aluno?'"
      ]
     },
     "execution_count": 34,
     "metadata": {},
     "output_type": "execute_result"
    }
   ],
   "source": [
    "mensagem = \"E aí, aluno?\"\n",
    "mensagem"
   ]
  },
  {
   "cell_type": "code",
   "execution_count": 35,
   "metadata": {},
   "outputs": [
    {
     "name": "stdout",
     "output_type": "stream",
     "text": [
      "E aí, aluno?\n"
     ]
    }
   ],
   "source": [
    "print(mensagem)"
   ]
  },
  {
   "cell_type": "markdown",
   "metadata": {},
   "source": [
    "Quando o Python exibe o valor de uma expressão, usa o mesmo formato para a atribuição. No caso de ``strings``, isso significa que as aspas estão incluídas. Mas o comando ``print`` imprime o valor da expressão, que, neste caso, é o conteúdo da string sem as aspas.\n",
    "\n",
    "Em um ``script`` uma expressão sozinha é válida, porém não tem efeito."
   ]
  },
  {
   "cell_type": "code",
   "execution_count": 38,
   "metadata": {},
   "outputs": [
    {
     "name": "stdout",
     "output_type": "stream",
     "text": [
      "ok\n"
     ]
    }
   ],
   "source": [
    "17\n",
    "3.2\n",
    "\"Olá\"\n",
    "1+1\n",
    "print(\"ok\")"
   ]
  },
  {
   "cell_type": "markdown",
   "metadata": {},
   "source": [
    "A única saída do script acima será o que está dentro do comando print. Você poderia mudar os valores para exibir todas as expressões?"
   ]
  },
  {
   "cell_type": "markdown",
   "metadata": {},
   "source": [
    "## Operadores e operandos\n",
    "Operadores são símbolos especiais que representam computações como adição e multiplicação. Os valores que o operador usa são chamados de operandos, todas as expressões seguintes são válidas, em Python, e seus significados são similares a matemática."
   ]
  },
  {
   "cell_type": "code",
   "execution_count": 1,
   "metadata": {},
   "outputs": [
    {
     "name": "stdout",
     "output_type": "stream",
     "text": [
      "52\n",
      "25\n",
      "3.95 3\n",
      "112\n"
     ]
    }
   ],
   "source": [
    "print(20+32)\n",
    "print(5**2)\n",
    "minutos = 237\n",
    "horas = minutos/60\n",
    "print(horas, minutos//60)\n",
    "print((5+9)*(15-7))\n"
   ]
  },
  {
   "cell_type": "markdown",
   "metadata": {},
   "source": [
    "Em Python, os símbolos `+`, `-`, `/` e o uso de parênteses tem equivalência com seus significados matemáticos. O asterisco `*` representa uma multiplicação, e `**` uma potencição. O `//` significa uma divisão com resultado, somente, inteiro. Quando o nome de uma variável aparece no lugar de um valor, ela será substituída pelo seu conteúdo antes da operação ser executada.\n",
    "\n",
    "Note que a divisão inteira retorna um valor inteiro, logo:"
   ]
  },
  {
   "cell_type": "code",
   "execution_count": 3,
   "metadata": {},
   "outputs": [
    {
     "name": "stdout",
     "output_type": "stream",
     "text": [
      "0.9833333333333333\n",
      "0\n"
     ]
    }
   ],
   "source": [
    "minutos = 59\n",
    "print(minutos/60)\n",
    "print(minutos//60)"
   ]
  },
  {
   "cell_type": "markdown",
   "metadata": {},
   "source": [
    "59 minutos divido por 60, resultam em 0.983 horas, porém ao usar a divisão inteira resultam em 0.\n",
    "\n",
    "### Conversão de tipos\n",
    "\n",
    "função | cast\n",
    "-------|--------\n",
    "int()  | inteiro\n",
    "float()| real\n",
    "str()  | string\n",
    "bool() | booleano\n",
    "\n",
    "Pode-se convertem os valores entre os tipos existentes."
   ]
  },
  {
   "cell_type": "code",
   "execution_count": 4,
   "metadata": {},
   "outputs": [
    {
     "name": "stdout",
     "output_type": "stream",
     "text": [
      "3\n",
      "3\n",
      "3\n",
      "2345\n",
      "17.0\n",
      "17.25\n",
      "17\n",
      "123.45\n"
     ]
    }
   ],
   "source": [
    "print(int(3.14))\n",
    "print(int(3.9999))\n",
    "print(int(3.0))\n",
    "print(int(\"2345\"))\n",
    "print(float(17))\n",
    "print(float(\"17.25\"))\n",
    "print(str(17))\n",
    "print(str(123.45))"
   ]
  },
  {
   "cell_type": "markdown",
   "metadata": {},
   "source": [
    "Note que int(3.9999) não arredonda para o inteiro mais próximo, funcionando como chão. A função `round` irá fazer o arredondamento."
   ]
  },
  {
   "cell_type": "code",
   "execution_count": 5,
   "metadata": {},
   "outputs": [
    {
     "name": "stdout",
     "output_type": "stream",
     "text": [
      "4\n"
     ]
    }
   ],
   "source": [
    "print(round(3.9999))"
   ]
  },
  {
   "cell_type": "markdown",
   "metadata": {},
   "source": [
    "Quando mais de uma operação aparece em uma mesma expressão deve-se levar em conta uma ordem de precedência. Python possui as mesmas regras da matemática. O acrônimo `PEMDAS` é uma maneira de lembrar a ordem destas operações.\n",
    "* __P__ Parênteses têm a mais alta precedência e podem ser usados para forçar uma expressão a ser avaliada na ordem necessária;\n",
    "* __E__ Exponenciação ou potênciação, constitui a próxima operação na fila de precedência.;\n",
    "* __MD__ Multiplicação e Divisão possuem a mesma precedência e são as terceiras a serem executadas;\n",
    "* __AS__ Por fim, adição e subtração são as últimas a serem resolvidas.\n",
    "\n",
    "Operadores com a mesma precedência são avaliados da esquerda para a direita. Por algum motivo o Python não segue esta regra para a potênciação. Assim:"
   ]
  },
  {
   "cell_type": "code",
   "execution_count": 10,
   "metadata": {},
   "outputs": [
    {
     "name": "stdout",
     "output_type": "stream",
     "text": [
      "512\n",
      "64\n"
     ]
    }
   ],
   "source": [
    "print(2**3**2)\n",
    "print((2**3)**2) # Note a diferença que fazem os parênteses"
   ]
  },
  {
   "cell_type": "markdown",
   "metadata": {},
   "source": [
    "## Operações com strings\n",
    "\n",
    "De maneira geral, não se pode executar operações matemáticas em strings, ainda que as strings sejam números. O que segue é inválido."
   ]
  },
  {
   "cell_type": "code",
   "execution_count": 11,
   "metadata": {},
   "outputs": [
    {
     "ename": "TypeError",
     "evalue": "unsupported operand type(s) for -: 'str' and 'int'",
     "output_type": "error",
     "traceback": [
      "\u001b[1;31m---------------------------------------------------------------------------\u001b[0m",
      "\u001b[1;31mTypeError\u001b[0m                                 Traceback (most recent call last)",
      "\u001b[1;32m<ipython-input-11-0a73a8113ec3>\u001b[0m in \u001b[0;36m<module>\u001b[1;34m()\u001b[0m\n\u001b[0;32m      1\u001b[0m \u001b[0mmensagem\u001b[0m \u001b[1;33m=\u001b[0m \u001b[1;34m\"Olá\"\u001b[0m\u001b[1;33m\u001b[0m\u001b[0m\n\u001b[1;32m----> 2\u001b[1;33m \u001b[0mprint\u001b[0m\u001b[1;33m(\u001b[0m\u001b[0mmensagem\u001b[0m\u001b[1;33m-\u001b[0m\u001b[1;36m1\u001b[0m\u001b[1;33m)\u001b[0m\u001b[1;33m\u001b[0m\u001b[0m\n\u001b[0m",
      "\u001b[1;31mTypeError\u001b[0m: unsupported operand type(s) for -: 'str' and 'int'"
     ]
    }
   ],
   "source": [
    "mensagem = \"Olá\"\n",
    "print(mensagem-1)"
   ]
  },
  {
   "cell_type": "code",
   "execution_count": 13,
   "metadata": {},
   "outputs": [
    {
     "ename": "TypeError",
     "evalue": "can't multiply sequence by non-int of type 'str'",
     "output_type": "error",
     "traceback": [
      "\u001b[1;31m---------------------------------------------------------------------------\u001b[0m",
      "\u001b[1;31mTypeError\u001b[0m                                 Traceback (most recent call last)",
      "\u001b[1;32m<ipython-input-13-8ebea4acafc3>\u001b[0m in \u001b[0;36m<module>\u001b[1;34m()\u001b[0m\n\u001b[1;32m----> 1\u001b[1;33m \u001b[0mprint\u001b[0m\u001b[1;33m(\u001b[0m\u001b[0mmensagem\u001b[0m\u001b[1;33m*\u001b[0m\u001b[1;34m\"teste\"\u001b[0m\u001b[1;33m)\u001b[0m\u001b[1;33m\u001b[0m\u001b[0m\n\u001b[0m",
      "\u001b[1;31mTypeError\u001b[0m: can't multiply sequence by non-int of type 'str'"
     ]
    }
   ],
   "source": [
    "print(mensagem*\"teste\")"
   ]
  },
  {
   "cell_type": "code",
   "execution_count": 14,
   "metadata": {},
   "outputs": [
    {
     "ename": "TypeError",
     "evalue": "must be str, not int",
     "output_type": "error",
     "traceback": [
      "\u001b[1;31m---------------------------------------------------------------------------\u001b[0m",
      "\u001b[1;31mTypeError\u001b[0m                                 Traceback (most recent call last)",
      "\u001b[1;32m<ipython-input-14-c7eaa89ba3f7>\u001b[0m in \u001b[0;36m<module>\u001b[1;34m()\u001b[0m\n\u001b[1;32m----> 1\u001b[1;33m \u001b[0mprint\u001b[0m\u001b[1;33m(\u001b[0m\u001b[1;34m\"15\"\u001b[0m\u001b[1;33m+\u001b[0m\u001b[1;36m2\u001b[0m\u001b[1;33m)\u001b[0m\u001b[1;33m\u001b[0m\u001b[0m\n\u001b[0m",
      "\u001b[1;31mTypeError\u001b[0m: must be str, not int"
     ]
    }
   ],
   "source": [
    "print(\"15\"+2)"
   ]
  },
  {
   "cell_type": "markdown",
   "metadata": {},
   "source": [
    "Porém os operadores matemáticos possuem operações específicas para as strings. Por exemplo `+` significa concatenação, juntar duas sequências."
   ]
  },
  {
   "cell_type": "code",
   "execution_count": 15,
   "metadata": {},
   "outputs": [
    {
     "name": "stdout",
     "output_type": "stream",
     "text": [
      "bananacom canela\n"
     ]
    }
   ],
   "source": [
    "fruta = \"banana\"\n",
    "assada = \"com canela\"\n",
    "print(fruta + assada)"
   ]
  },
  {
   "cell_type": "markdown",
   "metadata": {},
   "source": [
    "O `*` serve para repetir a mesma cadeia arbitrariamente."
   ]
  },
  {
   "cell_type": "code",
   "execution_count": 16,
   "metadata": {},
   "outputs": [
    {
     "name": "stdout",
     "output_type": "stream",
     "text": [
      "legallegallegal\n"
     ]
    }
   ],
   "source": [
    "print(\"legal\"*3)"
   ]
  },
  {
   "cell_type": "markdown",
   "metadata": {},
   "source": [
    "Existem diversos outros métodos referentes a strings, porém este tópico será revisitado mais a frente no curso."
   ]
  },
  {
   "cell_type": "markdown",
   "metadata": {},
   "source": [
    "## Entrada de dados"
   ]
  },
  {
   "cell_type": "markdown",
   "metadata": {},
   "source": [
    "Para receber dados do usuário o desenvolvedor pode utilizar a função `input`, por exemplo:"
   ]
  },
  {
   "cell_type": "code",
   "execution_count": 18,
   "metadata": {},
   "outputs": [
    {
     "name": "stdout",
     "output_type": "stream",
     "text": [
      "Digite seu nome: Caetano\n",
      "Caetano\n"
     ]
    }
   ],
   "source": [
    "nome = input(\"Digite seu nome: \")\n",
    "print(nome)"
   ]
  },
  {
   "cell_type": "markdown",
   "metadata": {},
   "source": [
    "O usuário digita seu nome e aperta ENTER em seguida, o texto digitado será do tipo `str` e a variável nome irá recebê-lo. Caso o objetivo seja ler um número deve-se lembrar de fazer a conversar do tipo. Além disso, em algumas vezes pode ser requerido ler mais de um valor por linha, para tal a cadeia deve ser quebrada por algum tipo de marcação. Para o exemplo a marcação será o caractére ESPAÇO."
   ]
  },
  {
   "cell_type": "code",
   "execution_count": 21,
   "metadata": {},
   "outputs": [
    {
     "name": "stdout",
     "output_type": "stream",
     "text": [
      "1 2\n",
      "1 2\n"
     ]
    }
   ],
   "source": [
    "x, y = input().split(' ')\n",
    "x = int(x)\n",
    "y = int(y)\n",
    "print(x, y)"
   ]
  },
  {
   "cell_type": "markdown",
   "metadata": {},
   "source": [
    "## Composição"
   ]
  },
  {
   "cell_type": "code",
   "execution_count": 22,
   "metadata": {},
   "outputs": [
    {
     "name": "stdout",
     "output_type": "stream",
     "text": [
      "Qual o raio?2\n",
      "A área é: 12.56636\n"
     ]
    }
   ],
   "source": [
    "resposta = input(\"Qual o raio?\")\n",
    "r = float(resposta)\n",
    "area = 3.14159 * r**2\n",
    "print(f'A área é: {area}')"
   ]
  },
  {
   "cell_type": "markdown",
   "metadata": {},
   "source": [
    "O exempo acima não utiliza a composição, seu uso recai na mesclagem de várias funções e comandos numa mesma linha. Isto pode tornar o código mais conciso, porém também torna-o mais complicado de se ler."
   ]
  },
  {
   "cell_type": "code",
   "execution_count": 24,
   "metadata": {},
   "outputs": [
    {
     "name": "stdout",
     "output_type": "stream",
     "text": [
      "Qual é o raio?2\n",
      "A área é: 12.56636\n"
     ]
    }
   ],
   "source": [
    "r = float(input(\"Qual é o raio?\"))\n",
    "area = 3.14159 * r**2\n",
    "print(f'A área é: {area}')"
   ]
  },
  {
   "cell_type": "code",
   "execution_count": 26,
   "metadata": {},
   "outputs": [
    {
     "name": "stdout",
     "output_type": "stream",
     "text": [
      "Qual é o raio?2\n",
      "A área é: 12.56636\n"
     ]
    }
   ],
   "source": [
    "print(f\"A área é: {3.14159 * float(input('Qual é o raio?'))**2}\")"
   ]
  },
  {
   "cell_type": "markdown",
   "metadata": {},
   "source": [
    "### Operação módulo\n",
    "A operação módulo (MOD) constitui uma operação matemática que busca o resto de uma divisão. Em Python o operador `%` é o símbolo para tal operação."
   ]
  },
  {
   "cell_type": "code",
   "execution_count": 27,
   "metadata": {},
   "outputs": [
    {
     "name": "stdout",
     "output_type": "stream",
     "text": [
      "2\n",
      "1\n"
     ]
    }
   ],
   "source": [
    "q = 7 // 3 # divisão inteira\n",
    "print(q)\n",
    "r = 7 % 3 # módulo\n",
    "print(r)"
   ]
  },
  {
   "cell_type": "markdown",
   "metadata": {},
   "source": [
    "Esta operação é extramente útil, serve, por exemplo, para verificar se um número é divisível por outro. Assim,\n",
    "* Se x % y == 0, então y divide x\n",
    "    * Como descobrir se um número é par? E ímpar?"
   ]
  },
  {
   "cell_type": "markdown",
   "metadata": {},
   "source": [
    "Esta operação também pode ser útil para fazer conversões, por exemplo segundos para dias, horas, minutos e segundos."
   ]
  },
  {
   "cell_type": "code",
   "execution_count": 31,
   "metadata": {},
   "outputs": [
    {
     "name": "stdout",
     "output_type": "stream",
     "text": [
      "Dias = 11.0, horas = 13.0, minutos = 46.0, segundos = 40.0\n"
     ]
    }
   ],
   "source": [
    "milhao_segundos = 10e5\n",
    "horas = milhao_segundos // 3600\n",
    "segundos_restantes = milhao_segundos % 3600\n",
    "minutos = segundos_restantes // 60\n",
    "segundos_finais = segundos_restantes % 60\n",
    "dias = horas // 24\n",
    "horas_restantes = horas % 24\n",
    "print(f\"Dias = {dias}, horas = {horas_restantes}, minutos = {minutos}, segundos = {segundos_finais}\")"
   ]
  },
  {
   "cell_type": "code",
   "execution_count": 34,
   "metadata": {},
   "outputs": [
    {
     "name": "stdout",
     "output_type": "stream",
     "text": [
      "Anos = 31.0, meses = 8.0, dias = 19.0, horas = 1.0, minutos = 46.0, segundos = 40.0\n"
     ]
    }
   ],
   "source": [
    "bilhao_segundos = 10e8\n",
    "horas = bilhao_segundos // 3600\n",
    "segundos = bilhao_segundos % 3600\n",
    "minutos = segundos // 60\n",
    "segundos = segundos % 60\n",
    "dias = horas // 24\n",
    "horas = horas % 24\n",
    "anos = dias // 365\n",
    "dias = dias % 365\n",
    "meses = dias // 30\n",
    "dias = dias % 30\n",
    "print(f'Anos = {anos}, meses = {meses}, dias = {dias}, horas = {horas}, minutos = {minutos}, segundos = {segundos}')"
   ]
  },
  {
   "cell_type": "markdown",
   "metadata": {},
   "source": [
    "## Exemplo Média Aritmética\n",
    "\n",
    "* Enunciado\n",
    "    * Leia dois números inteiros, calcule a média aritmética e mostre o resultado\n",
    "* Entrada\n",
    "    * 2 números inteiros por linha\n",
    "* Saída\n",
    "    * Média aritmética da linha\n",
    "\n",
    "Exemplo Entrada | Exemplo Saída\n",
    "----------------|---------------\n",
    "1 1 | 1.0\n",
    "1 2 | 1.5"
   ]
  },
  {
   "cell_type": "code",
   "execution_count": 35,
   "metadata": {},
   "outputs": [
    {
     "name": "stdout",
     "output_type": "stream",
     "text": [
      "1 2\n",
      "1.5\n"
     ]
    }
   ],
   "source": [
    "a, b = input().split()\n",
    "a, b = int(a), int(b)\n",
    "media = (a+b)/2\n",
    "print(media)"
   ]
  },
  {
   "cell_type": "markdown",
   "metadata": {},
   "source": [
    "## Bibliografia\n",
    "* How to Think like a computer scientist: Learning with Python 3 - Documentation - Release 3rd Edition\n",
    "    * Peter Wentworth, Jeffrey Elkner, Allen B. Downey and Chris Meyers - Apr 26, 2017"
   ]
  }
 ],
 "metadata": {
  "kernelspec": {
   "display_name": "Python 3",
   "language": "python",
   "name": "python3"
  },
  "language_info": {
   "codemirror_mode": {
    "name": "ipython",
    "version": 3
   },
   "file_extension": ".py",
   "mimetype": "text/x-python",
   "name": "python",
   "nbconvert_exporter": "python",
   "pygments_lexer": "ipython3",
   "version": "3.6.4"
  }
 },
 "nbformat": 4,
 "nbformat_minor": 2
}
