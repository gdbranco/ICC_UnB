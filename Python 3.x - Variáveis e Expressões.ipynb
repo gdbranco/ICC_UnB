{
 "cells": [
  {
   "cell_type": "markdown",
   "metadata": {},
   "source": [
    "## Valores e Tipos\n",
    "\n",
    "* O valor constitui uma das manipulações fundamentais do programa\n",
    "    - 2, resultado de 1+1\n",
    "    - \"Olá, mundo!\"\n",
    "* Valores pertencem a tipos diferentes:\n",
    "    - 2 representa o tipo inteiro\n",
    "    - 2.3 representa o tipo real (float)\n",
    "    - \"Olá, mundo!\" representa uma cadeia de caractéres (string)\n",
    "    - True, representa um valor booleano"
   ]
  },
  {
   "cell_type": "markdown",
   "metadata": {},
   "source": [
    "## Variáveis\n",
    "\n",
    "Na matemática uma variável pode ser entendido como um símbolo. Isto representa uma característica (quantidade, qualidade, magnitude etc) que pode possuir valores numéricos.\n",
    "\n",
    "* \\begin{equation}f(x) = x+1\\end{equation}\n",
    "    - A variável x exerce o papel de parâmetro de entrada da função \n",
    "* \\begin{equation}x^2 - x + 1 = 0\\end{equation}\n",
    "    - A variável x exerce o papel de incógnita\n",
    "    \n",
    "Para a Computação, uma variável se refere a uma posição em memória capaz de reter um valor ou expressão. Por meio de uma analogia, pode-se considerar a variável como uma caixa e o valor seu conteúdo.\n",
    "\n",
    "A criação de uma variável utiliza o comando de atribuição ``=``, além disto têm-se algumas regras. Os nomes de variável podem conter letras, números e o caractére ``_``, porém não podem ser iniciadas por números.\n",
    "* Escolha nomes significativos para as variáveis;\n",
    "* Os nomes podem ser arbitrariamente longos;\n",
    "* Os nomes são sensíveis a maiúsculas e minúsculas, logo ``nome`` será diferente de ``Nome``."
   ]
  },
  {
   "cell_type": "code",
   "execution_count": 13,
   "metadata": {},
   "outputs": [],
   "source": [
    "mensagem = \"Sou da UnB\"\n",
    "idade = 18\n",
    "pi = 3.1415\n",
    "verdade = True"
   ]
  },
  {
   "cell_type": "code",
   "execution_count": 16,
   "metadata": {},
   "outputs": [
    {
     "ename": "SyntaxError",
     "evalue": "invalid syntax (<ipython-input-16-2479865f6f98>, line 1)",
     "output_type": "error",
     "traceback": [
      "\u001b[1;36m  File \u001b[1;32m\"<ipython-input-16-2479865f6f98>\"\u001b[1;36m, line \u001b[1;32m1\u001b[0m\n\u001b[1;33m    1tamanho = 4\u001b[0m\n\u001b[1;37m           ^\u001b[0m\n\u001b[1;31mSyntaxError\u001b[0m\u001b[1;31m:\u001b[0m invalid syntax\n"
     ]
    }
   ],
   "source": [
    "1tamanho = 4"
   ]
  },
  {
   "cell_type": "markdown",
   "metadata": {},
   "source": [
    "Além destas regras, no Python existem algumas palavras reservadas. Esta lista pode ser obtida por meio de dois comandos:"
   ]
  },
  {
   "cell_type": "code",
   "execution_count": 25,
   "metadata": {},
   "outputs": [
    {
     "name": "stdout",
     "output_type": "stream",
     "text": [
      "['False', 'None', 'True', 'and', 'as', 'assert', 'break', 'class', 'continue', 'def', 'del', 'elif', 'else', 'except', 'finally', 'for', 'from', 'global', 'if', 'import', 'in', 'is', 'lambda', 'nonlocal', 'not', 'or', 'pass', 'raise', 'return', 'try', 'while', 'with', 'yield']\n"
     ]
    }
   ],
   "source": [
    "import keyword\n",
    "print(keyword.kwlist)"
   ]
  },
  {
   "cell_type": "markdown",
   "metadata": {},
   "source": [
    "Uma maneira de representar as variáveis em papel se dá por diagramos de estado. Este diagrama contém o nome da variável e uma seta apontando para seu estado (conteúdo) atual.\n",
    "\n",
    "<img src = \"./img/diagrama_estado.png\">"
   ]
  },
  {
   "cell_type": "markdown",
   "metadata": {},
   "source": [
    "No python a função ``print`` fica responsável por mostrar o conteúdo de variáveis ou expressões na tela."
   ]
  },
  {
   "cell_type": "code",
   "execution_count": 15,
   "metadata": {},
   "outputs": [
    {
     "name": "stdout",
     "output_type": "stream",
     "text": [
      "Sou da UnB\n",
      "18\n",
      "3.1415\n",
      "True\n"
     ]
    }
   ],
   "source": [
    "print(mensagem)\n",
    "print(idade)\n",
    "print(pi)\n",
    "print(verdade)"
   ]
  },
  {
   "cell_type": "markdown",
   "metadata": {},
   "source": [
    "Note que previamente foi mencionado que os valores possuem tipo, logo as variáveis possuem o mesmo tipo do valor de seu conteúdo. Este tipo pode ser acessado pela função ``type``."
   ]
  },
  {
   "cell_type": "code",
   "execution_count": 14,
   "metadata": {},
   "outputs": [
    {
     "name": "stdout",
     "output_type": "stream",
     "text": [
      "<class 'str'>\n",
      "<class 'int'>\n",
      "<class 'float'>\n",
      "<class 'bool'>\n"
     ]
    }
   ],
   "source": [
    "print(type(mensagem))\n",
    "print(type(idade))\n",
    "print(type(pi))\n",
    "print(type(verdade))"
   ]
  },
  {
   "cell_type": "markdown",
   "metadata": {},
   "source": [
    "Uma variável pode exercer diversos papéis no programa, tais como os vistos na tabela abaixo.\n",
    "\n",
    " Papel | Descrição \n",
    "-------|------------\n",
    "Constante | Recebe um valor apenas uma vez e não o muda\n",
    "Contador  | Recebe valores sucessivos de forma sistemática\n",
    "Somador   | Guarda a soma do seu valor atual mais alguma quantidade\n",
    "Sinalizador        | Sinaliza algum ocorrido\n",
    "Valor mais recente | Guarda o último valor\n",
    "Melhor valor       | Guarda o valor mais apropriado\n",
    "\n",
    "Entre estes estão os mais utilizados, porém também podem exercer outros papéis que serão explicados conforme a necessidade.\n",
    "\n",
    "### Exemplo\n",
    "Suponha um aluno com insônia. Um método que pode ser usado para dormir é o de contar carneiros.\n",
    "\n",
    "<img src=\"./img/insonia.png\">"
   ]
  },
  {
   "cell_type": "code",
   "execution_count": 21,
   "metadata": {},
   "outputs": [
    {
     "name": "stdout",
     "output_type": "stream",
     "text": [
      "Ovelhas = 0\n",
      "Ovelhas = 1\n",
      "Ovelhas = 2\n",
      "Ovelhas = 3\n",
      "Ovelhas = 4\n",
      "Ovelhas = 5\n",
      "Ovelhas = 6\n",
      "Ovelhas = 7\n",
      "Ovelhas = 8\n",
      "Ovelhas = 9\n",
      "Ovelhas = 10\n",
      "Ovelhas = 11\n",
      "Ovelhas = 12\n",
      "Ovelhas = 13\n",
      "Ovelhas = 14\n",
      "Ovelhas = 15\n",
      "Dormiu\n"
     ]
    }
   ],
   "source": [
    "ovelhas = 0\n",
    "acordado = True\n",
    "from random import randint\n",
    "dormir = randint(0, 20)\n",
    "while acordado:\n",
    "    print(f\"Ovelhas = {ovelhas}\")\n",
    "    ovelhas += 1\n",
    "    if ovelhas > dormir:\n",
    "        acordado = False\n",
    "print(\"Dormiu\")"
   ]
  },
  {
   "cell_type": "markdown",
   "metadata": {},
   "source": [
    "De acordo com ``Abelson et al. 1996``.\n",
    "* Um programa de computador não é apenas uma lista de comandos e variáveis em uma linguagem de programação para algum computador o executar;\n",
    "* Ele é mais que isso, é um novo meio para expressar ideias sobre metodologias;\n",
    "* Portanto, programas tem que ser escritos para as pessoas lerem, e apenas, por acaso, para serem executados por máquinas."
   ]
  },
  {
   "cell_type": "markdown",
   "metadata": {},
   "source": [
    "### Exemplo 2\n",
    "Tente adivinhar o que o seguinte programa faz:"
   ]
  },
  {
   "cell_type": "code",
   "execution_count": 27,
   "metadata": {},
   "outputs": [
    {
     "name": "stdout",
     "output_type": "stream",
     "text": [
      "314.15000000000003\n"
     ]
    }
   ],
   "source": [
    "e = 3.1415\n",
    "n = 10\n",
    "z = e * n**2\n",
    "print(z)"
   ]
  },
  {
   "cell_type": "markdown",
   "metadata": {},
   "source": [
    "Com esta escolha de nomeação torna-se uma tarefa muito complicada adivinhar o que o programa esta calculando. Porém com uma nomeação correta,"
   ]
  },
  {
   "cell_type": "code",
   "execution_count": 28,
   "metadata": {},
   "outputs": [
    {
     "name": "stdout",
     "output_type": "stream",
     "text": [
      "314.15000000000003\n"
     ]
    }
   ],
   "source": [
    "pi = 3.1415\n",
    "raio = 10\n",
    "area = pi * raio**2\n",
    "print(area)"
   ]
  },
  {
   "cell_type": "markdown",
   "metadata": {},
   "source": [
    "siga o conselho, escreva programas para seres humanos lerem, que por acaso, possam ser executados por máquinas."
   ]
  },
  {
   "cell_type": "markdown",
   "metadata": {},
   "source": [
    "## Expressões\n",
    "\n",
    "Uma expressão representa uma combinação de valores, variáveis e operadores. Se for digitado uma expressão na linha de comando, o interpretador avalia e exibe o resultado."
   ]
  },
  {
   "cell_type": "code",
   "execution_count": 29,
   "metadata": {},
   "outputs": [
    {
     "data": {
      "text/plain": [
       "2"
      ]
     },
     "execution_count": 29,
     "metadata": {},
     "output_type": "execute_result"
    }
   ],
   "source": [
    "1+1"
   ]
  },
  {
   "cell_type": "code",
   "execution_count": 32,
   "metadata": {},
   "outputs": [],
   "source": [
    "x = 1+1"
   ]
  },
  {
   "cell_type": "markdown",
   "metadata": {},
   "source": [
    "Embora expressão contenham valores, variáveis e operadores, nem toda expressão contém todos estes elementos. Um valor po si só é considerado uma expressão, do mesmo modo que uma variável"
   ]
  },
  {
   "cell_type": "code",
   "execution_count": 30,
   "metadata": {},
   "outputs": [
    {
     "data": {
      "text/plain": [
       "17"
      ]
     },
     "execution_count": 30,
     "metadata": {},
     "output_type": "execute_result"
    }
   ],
   "source": [
    "17"
   ]
  },
  {
   "cell_type": "code",
   "execution_count": 33,
   "metadata": {},
   "outputs": [
    {
     "data": {
      "text/plain": [
       "2"
      ]
     },
     "execution_count": 33,
     "metadata": {},
     "output_type": "execute_result"
    }
   ],
   "source": [
    "x"
   ]
  },
  {
   "cell_type": "markdown",
   "metadata": {},
   "source": [
    "A avaliação de uma expressão não é exatamente a mesma coisa que imprimir o valor"
   ]
  },
  {
   "cell_type": "code",
   "execution_count": 34,
   "metadata": {},
   "outputs": [
    {
     "data": {
      "text/plain": [
       "'E aí, aluno?'"
      ]
     },
     "execution_count": 34,
     "metadata": {},
     "output_type": "execute_result"
    }
   ],
   "source": [
    "mensagem = \"E aí, aluno?\"\n",
    "mensagem"
   ]
  },
  {
   "cell_type": "code",
   "execution_count": 35,
   "metadata": {},
   "outputs": [
    {
     "name": "stdout",
     "output_type": "stream",
     "text": [
      "E aí, aluno?\n"
     ]
    }
   ],
   "source": [
    "print(mensagem)"
   ]
  },
  {
   "cell_type": "markdown",
   "metadata": {},
   "source": [
    "Quando o Python exibe o valor de uma expressão, usa o mesmo formato para a atribuição. No caso de ``strings``, isso significa que as aspas estão incluídas. Mas o comando ``print`` imprime o valor da expressão, que, neste caso, é o conteúdo da string sem as aspas.\n",
    "\n",
    "Em um ``script`` uma expressão sozinha é válida, porém não tem efeito."
   ]
  },
  {
   "cell_type": "code",
   "execution_count": 38,
   "metadata": {},
   "outputs": [
    {
     "name": "stdout",
     "output_type": "stream",
     "text": [
      "ok\n"
     ]
    }
   ],
   "source": [
    "17\n",
    "3.2\n",
    "\"Olá\"\n",
    "1+1\n",
    "print(\"ok\")"
   ]
  },
  {
   "cell_type": "markdown",
   "metadata": {},
   "source": [
    "A única saída do script acima será o que está dentro do comando print. Você poderia mudar os valores para exibir todas as expressões?"
   ]
  }
 ],
 "metadata": {
  "kernelspec": {
   "display_name": "Python 3",
   "language": "python",
   "name": "python3"
  },
  "language_info": {
   "codemirror_mode": {
    "name": "ipython",
    "version": 3
   },
   "file_extension": ".py",
   "mimetype": "text/x-python",
   "name": "python",
   "nbconvert_exporter": "python",
   "pygments_lexer": "ipython3",
   "version": "3.6.4"
  }
 },
 "nbformat": 4,
 "nbformat_minor": 2
}
